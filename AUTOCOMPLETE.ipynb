{
  "cells": [
    {
      "cell_type": "markdown",
      "metadata": {
        "id": "rKSQvPSRCvtX"
      },
      "source": [
        "# **Load data**"
      ]
    },
    {
      "cell_type": "code",
      "execution_count": null,
      "metadata": {
        "id": "cWvgEWWyZNji",
        "colab": {
          "base_uri": "https://localhost:8080/"
        },
        "outputId": "fd035441-1ad9-445d-cc62-95002c39e4ca"
      },
      "outputs": [
        {
          "output_type": "stream",
          "name": "stdout",
          "text": [
            "Mounted at /content/drive\n"
          ]
        }
      ],
      "source": [
        "from google.colab import drive\n",
        "drive.mount('/content/drive')"
      ]
    },
    {
      "cell_type": "code",
      "execution_count": null,
      "metadata": {
        "colab": {
          "base_uri": "https://localhost:8080/"
        },
        "id": "tTq5VhdGaGdi",
        "outputId": "93f34d5e-f488-4bc6-88db-db2343eeb5b1"
      },
      "outputs": [
        {
          "output_type": "stream",
          "name": "stdout",
          "text": [
            "/content/drive/MyDrive/shakespeare_dataset_AUTOCOMPLETE\n"
          ]
        }
      ],
      "source": [
        "%cd /content/drive/MyDrive/shakespeare_dataset_AUTOCOMPLETE"
      ]
    },
    {
      "cell_type": "code",
      "execution_count": null,
      "metadata": {
        "id": "ikIxTMyy_NLY"
      },
      "outputs": [],
      "source": [
        "data = open('text.txt', 'r', encoding='utf-8').read()"
      ]
    },
    {
      "cell_type": "markdown",
      "source": [
        "# **Prepare data**"
      ],
      "metadata": {
        "id": "9gxY2jKSCHmL"
      }
    },
    {
      "cell_type": "code",
      "execution_count": null,
      "metadata": {
        "colab": {
          "base_uri": "https://localhost:8080/"
        },
        "id": "nC7-_-M9DDZN",
        "outputId": "21ab7b30-3ed8-46e3-9eb3-d5b9d70ded3b"
      },
      "outputs": [
        {
          "output_type": "stream",
          "name": "stdout",
          "text": [
            "71\n",
            "['\\n', ' ', '!', '$', '&', \"'\", '(', ')', ',', '-', '.', '1', '2', '3', ':', ';', '?', 'A', 'B', 'C', 'D', 'E', 'F', 'G', 'H', 'I', 'J', 'K', 'L', 'M', 'N', 'O', 'P', 'Q', 'R', 'S', 'T', 'U', 'V', 'W', 'X', 'Y', 'Z', '[', ']', 'a', 'b', 'c', 'd', 'e', 'f', 'g', 'h', 'i', 'j', 'k', 'l', 'm', 'n', 'o', 'p', 'q', 'r', 's', 't', 'u', 'v', 'w', 'x', 'y', 'z']\n"
          ]
        }
      ],
      "source": [
        "chars = sorted(list(set(data)))\n",
        "print(len(chars))\n",
        "print(chars)"
      ]
    },
    {
      "cell_type": "code",
      "execution_count": null,
      "metadata": {
        "colab": {
          "base_uri": "https://localhost:8080/",
          "height": 36
        },
        "id": "n60cfalKDIMD",
        "outputId": "24c770a8-dcee-4867-fad4-6870984d8b9e"
      },
      "outputs": [
        {
          "output_type": "execute_result",
          "data": {
            "text/plain": [
              "'First Citizen:\\nBefore we proceed any further, hear me speak.\\n\\nAll:\\nSpeak, speak.\\n\\nFirst Citizen:\\nYou'"
            ],
            "application/vnd.google.colaboratory.intrinsic+json": {
              "type": "string"
            }
          },
          "metadata": {},
          "execution_count": 5
        }
      ],
      "source": [
        "data[:100]"
      ]
    },
    {
      "cell_type": "code",
      "execution_count": null,
      "metadata": {
        "colab": {
          "base_uri": "https://localhost:8080/"
        },
        "id": "XLmaja13F2i0",
        "outputId": "cbe5cc7f-4580-4a8a-c4ad-524ccf184507"
      },
      "outputs": [
        {
          "output_type": "execute_result",
          "data": {
            "text/plain": [
              "1508560"
            ]
          },
          "metadata": {},
          "execution_count": 6
        }
      ],
      "source": [
        "sentences= [c for c in data]\n",
        "len(sentences)"
      ]
    },
    {
      "cell_type": "code",
      "execution_count": null,
      "metadata": {
        "colab": {
          "base_uri": "https://localhost:8080/"
        },
        "id": "eYU1jwNuGAzF",
        "outputId": "8d037458-b2fe-4415-9e28-d90a1351421a"
      },
      "outputs": [
        {
          "output_type": "execute_result",
          "data": {
            "text/plain": [
              "['F', 'i', 'r', 's', 't', ' ', 'C', 'i', 't', 'i', 'z', 'e', 'n', ':', '\\n']"
            ]
          },
          "metadata": {},
          "execution_count": 7
        }
      ],
      "source": [
        "sentences[:15]"
      ]
    },
    {
      "cell_type": "code",
      "execution_count": null,
      "metadata": {
        "colab": {
          "base_uri": "https://localhost:8080/"
        },
        "id": "ea7k-0o-G8ie",
        "outputId": "ee6e4dff-2b92-4b68-d420-2d561f9eda5b"
      },
      "outputs": [
        {
          "output_type": "execute_result",
          "data": {
            "text/plain": [
              "251419"
            ]
          },
          "metadata": {},
          "execution_count": 8
        }
      ],
      "source": [
        "seq_len = 51\n",
        "step = 6\n",
        "voc_size = len(sentences)\n",
        "lines = []\n",
        "for i in range(seq_len, voc_size, step):\n",
        "  line = sentences[i-seq_len: i]\n",
        "  lines.append(line)\n",
        "\n",
        "len(lines)"
      ]
    },
    {
      "cell_type": "markdown",
      "source": [
        "# **Model**"
      ],
      "metadata": {
        "id": "3zWKRUWQCWgh"
      }
    },
    {
      "cell_type": "code",
      "execution_count": null,
      "metadata": {
        "id": "aSh8Hv4rGFao"
      },
      "outputs": [],
      "source": [
        "import numpy as np\n",
        "import tensorflow as tf\n",
        "# from tensorflow.keras.preprocessing.text import Tokenizer\n",
        "from tensorflow.keras.utils import to_categorical\n",
        "from tensorflow.keras.models import Sequential\n",
        "from tensorflow.keras.layers import Dense, Dropout, LSTM, Embedding, Bidirectional"
      ]
    },
    {
      "cell_type": "code",
      "execution_count": null,
      "metadata": {
        "colab": {
          "base_uri": "https://localhost:8080/"
        },
        "id": "bVi2BAsjOfcS",
        "outputId": "8a0b597c-66c1-4080-e10c-3e5ba944bed9"
      },
      "outputs": [
        {
          "output_type": "stream",
          "name": "stdout",
          "text": [
            "{'\\n': 0, ' ': 1, '!': 2, '$': 3, '&': 4, \"'\": 5, '(': 6, ')': 7, ',': 8, '-': 9, '.': 10, '1': 11, '2': 12, '3': 13, ':': 14, ';': 15, '?': 16, 'A': 17, 'B': 18, 'C': 19, 'D': 20, 'E': 21, 'F': 22, 'G': 23, 'H': 24, 'I': 25, 'J': 26, 'K': 27, 'L': 28, 'M': 29, 'N': 30, 'O': 31, 'P': 32, 'Q': 33, 'R': 34, 'S': 35, 'T': 36, 'U': 37, 'V': 38, 'W': 39, 'X': 40, 'Y': 41, 'Z': 42, '[': 43, ']': 44, 'a': 45, 'b': 46, 'c': 47, 'd': 48, 'e': 49, 'f': 50, 'g': 51, 'h': 52, 'i': 53, 'j': 54, 'k': 55, 'l': 56, 'm': 57, 'n': 58, 'o': 59, 'p': 60, 'q': 61, 'r': 62, 's': 63, 't': 64, 'u': 65, 'v': 66, 'w': 67, 'x': 68, 'y': 69, 'z': 70}\n"
          ]
        }
      ],
      "source": [
        "word_index = {}\n",
        "for i, c in enumerate(chars):\n",
        "  word_index[c] = i\n",
        "\n",
        "print(word_index)"
      ]
    },
    {
      "cell_type": "code",
      "execution_count": null,
      "metadata": {
        "id": "J83X8qjvQjJX"
      },
      "outputs": [],
      "source": [
        "def tokenization(text):\n",
        "  lines = []\n",
        "  for line in text:\n",
        "    tokenized_line = []\n",
        "    for char in line:\n",
        "      tokenized_line.append(word_index[char])\n",
        "    lines.append(tokenized_line)\n",
        "\n",
        "  return lines"
      ]
    },
    {
      "cell_type": "code",
      "execution_count": null,
      "metadata": {
        "id": "Y12g_SgARlOU"
      },
      "outputs": [],
      "source": [
        "tokenized_lines = tokenization(lines)\n",
        "tokenized_lines = np.array(tokenized_lines)\n",
        "X, Y = tokenized_lines[:, :-1], tokenized_lines[:, -1]"
      ]
    },
    {
      "cell_type": "code",
      "execution_count": null,
      "metadata": {
        "colab": {
          "base_uri": "https://localhost:8080/"
        },
        "id": "yM0t2EqsR6kG",
        "outputId": "452aa62a-6c8d-4acb-cdd0-84ee61717812"
      },
      "outputs": [
        {
          "output_type": "stream",
          "name": "stdout",
          "text": [
            "(251419, 51)\n",
            "(251419, 50)\n",
            "(251419,)\n"
          ]
        }
      ],
      "source": [
        "print(tokenized_lines.shape)\n",
        "print(X.shape)\n",
        "print(Y.shape)"
      ]
    },
    {
      "cell_type": "code",
      "execution_count": null,
      "metadata": {
        "id": "_rxrSoL4L2YT"
      },
      "outputs": [],
      "source": [
        "vocab_size = len(word_index)\n",
        "Y = to_categorical(Y, num_classes=vocab_size)"
      ]
    },
    {
      "cell_type": "code",
      "execution_count": null,
      "metadata": {
        "colab": {
          "base_uri": "https://localhost:8080/"
        },
        "id": "0enEAAdiVqtJ",
        "outputId": "2c5c79f2-b7db-410a-cbe1-0c23a24d78b4"
      },
      "outputs": [
        {
          "output_type": "stream",
          "name": "stdout",
          "text": [
            "Model: \"sequential\"\n",
            "_________________________________________________________________\n",
            " Layer (type)                Output Shape              Param #   \n",
            "=================================================================\n",
            " embedding (Embedding)       (None, 50, 71)            5680      \n",
            "                                                                 \n",
            " bidirectional (Bidirectiona  (None, 50, 512)          671744    \n",
            " l)                                                              \n",
            "                                                                 \n",
            " bidirectional_1 (Bidirectio  (None, 50, 256)          656384    \n",
            " nal)                                                            \n",
            "                                                                 \n",
            " bidirectional_2 (Bidirectio  (None, 50, 128)          164352    \n",
            " nal)                                                            \n",
            "                                                                 \n",
            " dropout (Dropout)           (None, 50, 128)           0         \n",
            "                                                                 \n",
            " lstm_3 (LSTM)               (None, 50, 128)           131584    \n",
            "                                                                 \n",
            " lstm_4 (LSTM)               (None, 50, 64)            49408     \n",
            "                                                                 \n",
            " lstm_5 (LSTM)               (None, 50, 32)            12416     \n",
            "                                                                 \n",
            " lstm_6 (LSTM)               (None, 16)                3136      \n",
            "                                                                 \n",
            " dense (Dense)               (None, 71)                1207      \n",
            "                                                                 \n",
            "=================================================================\n",
            "Total params: 1,695,911\n",
            "Trainable params: 1,695,911\n",
            "Non-trainable params: 0\n",
            "_________________________________________________________________\n"
          ]
        }
      ],
      "source": [
        "model = Sequential()\n",
        "model.add(Embedding(80, vocab_size, input_length=seq_len-1))\n",
        "model.add(Bidirectional(LSTM(256, return_sequences=True)))\n",
        "model.add(Bidirectional(LSTM(128, return_sequences=True)))\n",
        "model.add(Bidirectional(LSTM(64, return_sequences=True)))\n",
        "model.add(Dropout(0.25))\n",
        "model.add((LSTM(128, return_sequences=True)))\n",
        "model.add((LSTM(64, return_sequences=True)))\n",
        "model.add((LSTM(32, return_sequences=True)))\n",
        "model.add((LSTM(16)))\n",
        "model.add(Dense(vocab_size, activation='softmax'))\n",
        "\n",
        "model.summary()"
      ]
    },
    {
      "cell_type": "code",
      "execution_count": null,
      "metadata": {
        "id": "FJ9nDMeO49-_"
      },
      "outputs": [],
      "source": [
        "model.compile(loss='categorical_crossentropy', optimizer='RMSprop', metrics=['accuracy'])"
      ]
    },
    {
      "cell_type": "code",
      "execution_count": null,
      "metadata": {
        "colab": {
          "base_uri": "https://localhost:8080/"
        },
        "id": "NJMrdc3O5VwD",
        "outputId": "773821a3-b7f9-4994-be6f-4a4f2409d67c"
      },
      "outputs": [
        {
          "output_type": "stream",
          "name": "stdout",
          "text": [
            "Epoch 1/100\n",
            "983/983 [==============================] - 85s 68ms/step - loss: 3.3222 - accuracy: 0.1509\n",
            "Epoch 2/100\n",
            "983/983 [==============================] - 71s 72ms/step - loss: 3.1439 - accuracy: 0.1618\n",
            "Epoch 3/100\n",
            "983/983 [==============================] - 71s 72ms/step - loss: 2.8863 - accuracy: 0.2180\n",
            "Epoch 4/100\n",
            "983/983 [==============================] - 71s 72ms/step - loss: 2.6333 - accuracy: 0.2735\n",
            "Epoch 5/100\n",
            "983/983 [==============================] - 71s 72ms/step - loss: 2.5603 - accuracy: 0.2899\n",
            "Epoch 6/100\n",
            "983/983 [==============================] - 71s 72ms/step - loss: 2.4995 - accuracy: 0.3044\n",
            "Epoch 7/100\n",
            "983/983 [==============================] - 71s 72ms/step - loss: 2.4343 - accuracy: 0.3235\n",
            "Epoch 8/100\n",
            "983/983 [==============================] - 71s 72ms/step - loss: 2.3681 - accuracy: 0.3438\n",
            "Epoch 9/100\n",
            "983/983 [==============================] - 71s 72ms/step - loss: 2.3109 - accuracy: 0.3540\n",
            "Epoch 10/100\n",
            "983/983 [==============================] - 71s 72ms/step - loss: 2.2382 - accuracy: 0.3686\n",
            "Epoch 11/100\n",
            "983/983 [==============================] - 71s 72ms/step - loss: 2.1782 - accuracy: 0.3844\n",
            "Epoch 12/100\n",
            "983/983 [==============================] - 71s 72ms/step - loss: 2.1184 - accuracy: 0.4006\n",
            "Epoch 13/100\n",
            "983/983 [==============================] - 71s 72ms/step - loss: 2.0606 - accuracy: 0.4196\n",
            "Epoch 14/100\n",
            "983/983 [==============================] - 71s 72ms/step - loss: 2.0048 - accuracy: 0.4348\n",
            "Epoch 15/100\n",
            "983/983 [==============================] - 71s 72ms/step - loss: 1.9478 - accuracy: 0.4492\n",
            "Epoch 16/100\n",
            "983/983 [==============================] - 71s 72ms/step - loss: 1.8996 - accuracy: 0.4605\n",
            "Epoch 17/100\n",
            "983/983 [==============================] - 71s 72ms/step - loss: 1.8518 - accuracy: 0.4723\n",
            "Epoch 18/100\n",
            "983/983 [==============================] - 71s 72ms/step - loss: 1.8079 - accuracy: 0.4842\n",
            "Epoch 19/100\n",
            "983/983 [==============================] - 71s 72ms/step - loss: 1.7688 - accuracy: 0.4937\n",
            "Epoch 20/100\n",
            "983/983 [==============================] - 71s 73ms/step - loss: 1.7326 - accuracy: 0.5040\n",
            "Epoch 21/100\n",
            "983/983 [==============================] - 71s 72ms/step - loss: 1.6954 - accuracy: 0.5133\n",
            "Epoch 22/100\n",
            "983/983 [==============================] - 71s 72ms/step - loss: 1.6632 - accuracy: 0.5225\n",
            "Epoch 23/100\n",
            "983/983 [==============================] - 71s 72ms/step - loss: 1.6311 - accuracy: 0.5309\n",
            "Epoch 24/100\n",
            "983/983 [==============================] - 71s 72ms/step - loss: 1.6008 - accuracy: 0.5401\n",
            "Epoch 25/100\n",
            "983/983 [==============================] - 71s 72ms/step - loss: 1.5726 - accuracy: 0.5469\n",
            "Epoch 26/100\n",
            "983/983 [==============================] - 71s 72ms/step - loss: 1.5440 - accuracy: 0.5551\n",
            "Epoch 27/100\n",
            "983/983 [==============================] - 71s 72ms/step - loss: 1.5154 - accuracy: 0.5632\n",
            "Epoch 28/100\n",
            "983/983 [==============================] - 71s 72ms/step - loss: 1.4883 - accuracy: 0.5708\n",
            "Epoch 29/100\n",
            "983/983 [==============================] - 71s 72ms/step - loss: 1.4605 - accuracy: 0.5787\n",
            "Epoch 30/100\n",
            "983/983 [==============================] - 71s 72ms/step - loss: 1.4343 - accuracy: 0.5855\n",
            "Epoch 31/100\n",
            "983/983 [==============================] - 71s 72ms/step - loss: 1.4089 - accuracy: 0.5932\n",
            "Epoch 32/100\n",
            "983/983 [==============================] - 71s 72ms/step - loss: 1.3835 - accuracy: 0.6002\n",
            "Epoch 33/100\n",
            "983/983 [==============================] - 71s 72ms/step - loss: 1.3596 - accuracy: 0.6068\n",
            "Epoch 34/100\n",
            "983/983 [==============================] - 71s 72ms/step - loss: 1.3350 - accuracy: 0.6140\n",
            "Epoch 35/100\n",
            "983/983 [==============================] - 71s 72ms/step - loss: 1.3135 - accuracy: 0.6201\n",
            "Epoch 36/100\n",
            "983/983 [==============================] - 71s 72ms/step - loss: 1.2918 - accuracy: 0.6259\n",
            "Epoch 37/100\n",
            "983/983 [==============================] - 71s 73ms/step - loss: 1.2686 - accuracy: 0.6330\n",
            "Epoch 38/100\n",
            "983/983 [==============================] - 71s 72ms/step - loss: 1.2466 - accuracy: 0.6394\n",
            "Epoch 39/100\n",
            "983/983 [==============================] - 71s 72ms/step - loss: 1.2232 - accuracy: 0.6458\n",
            "Epoch 40/100\n",
            "983/983 [==============================] - 71s 72ms/step - loss: 1.2042 - accuracy: 0.6515\n",
            "Epoch 41/100\n",
            "983/983 [==============================] - 71s 72ms/step - loss: 1.1849 - accuracy: 0.6576\n",
            "Epoch 42/100\n",
            "983/983 [==============================] - 72s 73ms/step - loss: 1.1680 - accuracy: 0.6608\n",
            "Epoch 43/100\n",
            "983/983 [==============================] - 71s 73ms/step - loss: 1.1478 - accuracy: 0.6673\n",
            "Epoch 44/100\n",
            "983/983 [==============================] - 71s 73ms/step - loss: 1.1294 - accuracy: 0.6725\n",
            "Epoch 45/100\n",
            "983/983 [==============================] - 71s 72ms/step - loss: 1.1122 - accuracy: 0.6776\n",
            "Epoch 46/100\n",
            "983/983 [==============================] - 71s 72ms/step - loss: 1.0928 - accuracy: 0.6833\n",
            "Epoch 47/100\n",
            "983/983 [==============================] - 71s 72ms/step - loss: 1.0756 - accuracy: 0.6893\n",
            "Epoch 48/100\n",
            "983/983 [==============================] - 71s 72ms/step - loss: 1.0599 - accuracy: 0.6928\n",
            "Epoch 49/100\n",
            "983/983 [==============================] - 71s 72ms/step - loss: 1.0446 - accuracy: 0.6969\n",
            "Epoch 50/100\n",
            "983/983 [==============================] - 71s 72ms/step - loss: 1.0310 - accuracy: 0.7004\n",
            "Epoch 51/100\n",
            "983/983 [==============================] - 71s 72ms/step - loss: 1.0157 - accuracy: 0.7048\n",
            "Epoch 52/100\n",
            "983/983 [==============================] - 71s 73ms/step - loss: 1.0011 - accuracy: 0.7091\n",
            "Epoch 53/100\n",
            "983/983 [==============================] - 71s 72ms/step - loss: 0.9846 - accuracy: 0.7137\n",
            "Epoch 54/100\n",
            "983/983 [==============================] - 71s 72ms/step - loss: 0.9718 - accuracy: 0.7172\n",
            "Epoch 55/100\n",
            "983/983 [==============================] - 71s 73ms/step - loss: 0.9619 - accuracy: 0.7202\n",
            "Epoch 56/100\n",
            "983/983 [==============================] - 75s 76ms/step - loss: 0.9485 - accuracy: 0.7241\n",
            "Epoch 57/100\n",
            "983/983 [==============================] - 71s 73ms/step - loss: 0.9368 - accuracy: 0.7268\n",
            "Epoch 58/100\n",
            "983/983 [==============================] - 72s 73ms/step - loss: 0.9231 - accuracy: 0.7309\n",
            "Epoch 59/100\n",
            "983/983 [==============================] - 71s 72ms/step - loss: 0.9144 - accuracy: 0.7335\n",
            "Epoch 60/100\n",
            "983/983 [==============================] - 71s 72ms/step - loss: 0.8987 - accuracy: 0.7381\n",
            "Epoch 61/100\n",
            "983/983 [==============================] - 71s 72ms/step - loss: 0.8892 - accuracy: 0.7401\n",
            "Epoch 62/100\n",
            "983/983 [==============================] - 71s 72ms/step - loss: 0.8764 - accuracy: 0.7441\n",
            "Epoch 63/100\n",
            "983/983 [==============================] - 71s 73ms/step - loss: 0.8664 - accuracy: 0.7468\n",
            "Epoch 64/100\n",
            "983/983 [==============================] - 71s 72ms/step - loss: 0.8578 - accuracy: 0.7488\n",
            "Epoch 65/100\n",
            "983/983 [==============================] - 71s 73ms/step - loss: 0.8460 - accuracy: 0.7533\n",
            "Epoch 66/100\n",
            "983/983 [==============================] - 71s 73ms/step - loss: 0.8342 - accuracy: 0.7552\n",
            "Epoch 67/100\n",
            "983/983 [==============================] - 71s 72ms/step - loss: 0.8252 - accuracy: 0.7583\n",
            "Epoch 68/100\n",
            "983/983 [==============================] - 71s 72ms/step - loss: 0.8170 - accuracy: 0.7608\n",
            "Epoch 69/100\n",
            "983/983 [==============================] - 71s 72ms/step - loss: 0.8082 - accuracy: 0.7635\n",
            "Epoch 70/100\n",
            "983/983 [==============================] - 71s 72ms/step - loss: 0.7989 - accuracy: 0.7652\n",
            "Epoch 71/100\n",
            "983/983 [==============================] - 71s 72ms/step - loss: 0.7900 - accuracy: 0.7679\n",
            "Epoch 72/100\n",
            "983/983 [==============================] - 71s 72ms/step - loss: 0.7825 - accuracy: 0.7708\n",
            "Epoch 73/100\n",
            "983/983 [==============================] - 71s 72ms/step - loss: 0.7750 - accuracy: 0.7715\n",
            "Epoch 74/100\n",
            "983/983 [==============================] - 71s 72ms/step - loss: 0.7637 - accuracy: 0.7759\n",
            "Epoch 75/100\n",
            "983/983 [==============================] - 71s 72ms/step - loss: 0.7580 - accuracy: 0.7764\n",
            "Epoch 76/100\n",
            "983/983 [==============================] - 72s 73ms/step - loss: 0.7483 - accuracy: 0.7794\n",
            "Epoch 77/100\n",
            "983/983 [==============================] - 71s 72ms/step - loss: 0.7422 - accuracy: 0.7812\n",
            "Epoch 78/100\n",
            "983/983 [==============================] - 71s 72ms/step - loss: 0.7361 - accuracy: 0.7833\n",
            "Epoch 79/100\n",
            "983/983 [==============================] - 71s 73ms/step - loss: 0.7286 - accuracy: 0.7858\n",
            "Epoch 80/100\n",
            "983/983 [==============================] - 71s 73ms/step - loss: 0.7169 - accuracy: 0.7884\n",
            "Epoch 81/100\n",
            "983/983 [==============================] - 71s 72ms/step - loss: 0.7149 - accuracy: 0.7888\n",
            "Epoch 82/100\n",
            "983/983 [==============================] - 71s 72ms/step - loss: 0.7055 - accuracy: 0.7914\n",
            "Epoch 83/100\n",
            "983/983 [==============================] - 71s 72ms/step - loss: 0.6982 - accuracy: 0.7936\n",
            "Epoch 84/100\n",
            "983/983 [==============================] - 71s 73ms/step - loss: 0.6933 - accuracy: 0.7947\n",
            "Epoch 85/100\n",
            "983/983 [==============================] - 71s 72ms/step - loss: 0.6833 - accuracy: 0.7972\n",
            "Epoch 86/100\n",
            "983/983 [==============================] - 71s 72ms/step - loss: 0.6773 - accuracy: 0.7995\n",
            "Epoch 87/100\n",
            "983/983 [==============================] - 71s 72ms/step - loss: 0.6712 - accuracy: 0.8014\n",
            "Epoch 88/100\n",
            "983/983 [==============================] - 71s 73ms/step - loss: 0.6638 - accuracy: 0.8029\n",
            "Epoch 89/100\n",
            "983/983 [==============================] - 71s 72ms/step - loss: 0.6582 - accuracy: 0.8048\n",
            "Epoch 90/100\n",
            "983/983 [==============================] - 71s 73ms/step - loss: 0.6537 - accuracy: 0.8060\n",
            "Epoch 91/100\n",
            "983/983 [==============================] - 71s 72ms/step - loss: 0.6473 - accuracy: 0.8082\n",
            "Epoch 92/100\n",
            "983/983 [==============================] - 71s 73ms/step - loss: 0.6416 - accuracy: 0.8088\n",
            "Epoch 93/100\n",
            "983/983 [==============================] - 71s 72ms/step - loss: 0.6346 - accuracy: 0.8104\n",
            "Epoch 94/100\n",
            "983/983 [==============================] - 71s 72ms/step - loss: 0.6296 - accuracy: 0.8133\n",
            "Epoch 95/100\n",
            "983/983 [==============================] - 71s 72ms/step - loss: 0.6227 - accuracy: 0.8140\n",
            "Epoch 96/100\n",
            "983/983 [==============================] - 71s 73ms/step - loss: 0.6179 - accuracy: 0.8164\n",
            "Epoch 97/100\n",
            "983/983 [==============================] - 71s 72ms/step - loss: 0.6131 - accuracy: 0.8178\n",
            "Epoch 98/100\n",
            "983/983 [==============================] - 71s 72ms/step - loss: 0.6072 - accuracy: 0.8185\n",
            "Epoch 99/100\n",
            "983/983 [==============================] - 71s 72ms/step - loss: 0.6003 - accuracy: 0.8214\n",
            "Epoch 100/100\n",
            "983/983 [==============================] - 71s 73ms/step - loss: 0.5978 - accuracy: 0.8220\n"
          ]
        }
      ],
      "source": [
        "history = model.fit(X, Y, batch_size=256, epochs=100)"
      ]
    },
    {
      "cell_type": "code",
      "execution_count": null,
      "metadata": {
        "id": "CXWMVjDi5byD",
        "colab": {
          "base_uri": "https://localhost:8080/",
          "height": 295
        },
        "outputId": "a89caa7f-5d08-4f52-d70d-e9d6ace3c7d9"
      },
      "outputs": [
        {
          "output_type": "display_data",
          "data": {
            "text/plain": [
              "<Figure size 432x288 with 1 Axes>"
            ],
            "image/png": "[encoded data removed]"
          },
          "metadata": {
            "needs_background": "light"
          }
        }
      ],
      "source": [
        "import matplotlib.pyplot as plt\n",
        "\n",
        "loss = history.history['loss']\n",
        "epochs = range(1, len(loss)+1)\n",
        "plt.plot(epochs, loss, 'y', label='Training loss')\n",
        "plt.title('Training loss')\n",
        "plt.xlabel('epochs')\n",
        "plt.ylabel('loss')\n",
        "plt.legend()\n",
        "plt.show()"
      ]
    },
    {
      "cell_type": "markdown",
      "source": [
        "# **Testing**"
      ],
      "metadata": {
        "id": "FMoIyotTCbQ3"
      }
    },
    {
      "cell_type": "code",
      "execution_count": null,
      "metadata": {
        "id": "sM0MIgPhCHnK"
      },
      "outputs": [],
      "source": [
        "def sample(preds):\n",
        "  preds = np.asarray(preds).astype('float64')\n",
        "  preds = np.log(preds)\n",
        "  exp_preds = np.exp(preds)\n",
        "  preds = exp_preds / np.sum(exp_preds)\n",
        "  probs = np.random.multinomial(1, preds, 1)\n",
        "\n",
        "  return np.argmax(probs)"
      ]
    },
    {
      "cell_type": "code",
      "execution_count": null,
      "metadata": {
        "id": "bm_e_lmiGVwG"
      },
      "outputs": [],
      "source": [
        "index_2_word = {v:k for k, v in word_index.items()}"
      ]
    },
    {
      "cell_type": "code",
      "execution_count": null,
      "metadata": {
        "id": "eD2uweCqDGUR",
        "colab": {
          "base_uri": "https://localhost:8080/"
        },
        "outputId": "b677272f-d36f-48d9-8546-cdda4fd13bc9"
      },
      "outputs": [
        {
          "output_type": "stream",
          "name": "stdout",
          "text": [
            "------ seed for our text generation:  \n",
            " ture that in time will Venom breed,\n",
            "No teeth for t\"\n",
            "hat consume us the rest-line,\n",
            "Gjore thels to agairs. Let the rest of him.\n",
            "But neiding. Madam, marry thus sent bring\n",
            "This could and good dreab! Dome thinke he will less\n",
            "arm of Herceber Bohing.\n",
            "\n",
            "\n",
            "Solne k Moises, Gold and Mightand Esiend: What king,\n",
            "To all ever the holy for a part flower of recriEf;\n",
            "And when unusunes such a kingly heart\n",
            "My glave revenge in my 'ea, and leber\n",
            "And her Chaels help in exage!\n",
            "\n",
            "BALTHON:\n",
            "Alare it; Rosincrage, it come to retish Blate,\n",
            "To s'ery hey do it sit upon with a bown\n",
            "Were may first him never to no right of death?\n",
            "\n",
            "DUKE OF YORK:\n",
            "Iud'st remife, a wing, and Camillo, I see:\n",
            "Our attowing their oMfifutation shooth,\n",
            "And housed in Yores, and she will sleter thee;\n",
            "How thou hast a sty son'd, and till themselve't,\n",
            "Bribes with betch Fafters rincess me with all\n",
            "Is he hath being tvoue, not for i the rabes and lichs\n",
            "bid Tigen ochating side his son he hath\n",
            "By I have forgect twelchers shall be me,\n",
            "Who, tect\n",
            "\n",
            "   Mal. Thane inmoraties, spy Saife Signiito's Lord?\n",
            "\n",
            ": yet bensised your quick weepe, sir,\n",
            "Uman you have reverent in the day,\n",
            "But therefore have not do the botter's daughter!\n",
            "\n",
            "MENENIUS:\n",
            "No, I'll enage thee still.\n",
            "\n",
            "LUCDIS:\n",
            "ye viet! why has shall be done, whippedvent\n",
            "Which should you exposie, souls in is wondern-love,\n",
            "I prythle put me here a Noble and soul;\n",
            "Thas not so, so reward, and malied that I say\n",
            "Get me that they are friends, and defines:\n",
            "The amise angact and Speaks soufe, as I oft\n",
            "The strengthble maigrand; on his hates bring\n",
            "I an infort's with souls to s\n"
          ]
        }
      ],
      "source": [
        "import random\n",
        "import sys\n",
        "\n",
        "seq_length = 50\n",
        "\n",
        "start_index = random.randint(0, len(data) - seq_length - 1)\n",
        "\n",
        "generated = ''\n",
        "sentence = data[start_index : start_index + seq_length]\n",
        "generated += sentence\n",
        "\n",
        "print('------ seed for our text generation:  \\n', sentence + '\"')\n",
        "\n",
        "for i in range(1500):\n",
        "  x_pred = np.zeros((1, seq_length))\n",
        "  for i, char in enumerate(sentence):\n",
        "    x_pred[0, i] = word_index[char]\n",
        "\n",
        "  preds = model.predict(x_pred, verbose=0)[0]\n",
        "  next_index = sample(preds)\n",
        "  next_char = index_2_word[next_index]\n",
        "\n",
        "  generated += next_char\n",
        "  sentence = sentence[1:] + next_char\n",
        "\n",
        "  sys.stdout.write(next_char)\n",
        "  sys.stdout.flush()\n",
        "\n",
        "print()"
      ]
    },
    {
      "cell_type": "code",
      "execution_count": null,
      "metadata": {
        "id": "n0l_TGW7BNSX"
      },
      "outputs": [],
      "source": [
        "model.save('autocorrect_weights.h5')"
      ]
    },
    {
      "cell_type": "code",
      "execution_count": null,
      "metadata": {
        "id": "2K-HjN6NDm8q"
      },
      "outputs": [],
      "source": [
        "file_name = 'autocorrect_weights.h5'\n",
        "model.load_weights(file_name)"
      ]
    },
    {
      "cell_type": "code",
      "source": [],
      "metadata": {
        "id": "xhe_wEE3-5ch"
      },
      "execution_count": null,
      "outputs": []
    }
  ],
  "metadata": {
    "accelerator": "GPU",
    "colab": {
      "collapsed_sections": [],
      "provenance": []
    },
    "gpuClass": "standard",
    "kernelspec": {
      "display_name": "Python 3",
      "name": "python3"
    },
    "language_info": {
      "name": "python"
    }
  },
  "nbformat": 4,
  "nbformat_minor": 0
}